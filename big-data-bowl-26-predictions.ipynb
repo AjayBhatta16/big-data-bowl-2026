{
 "cells": [
  {
   "cell_type": "code",
   "execution_count": 1,
   "id": "a1ac5800",
   "metadata": {
    "_cell_guid": "b1076dfc-b9ad-4769-8c92-a6c4dae69d19",
    "_uuid": "8f2839f25d086af736a60e9eeb907d3b93b6e0e5",
    "execution": {
     "iopub.execute_input": "2025-09-30T05:28:53.028438Z",
     "iopub.status.busy": "2025-09-30T05:28:53.027419Z",
     "iopub.status.idle": "2025-09-30T05:28:55.188552Z",
     "shell.execute_reply": "2025-09-30T05:28:55.187517Z"
    },
    "papermill": {
     "duration": 2.166992,
     "end_time": "2025-09-30T05:28:55.190244",
     "exception": false,
     "start_time": "2025-09-30T05:28:53.023252",
     "status": "completed"
    },
    "tags": []
   },
   "outputs": [
    {
     "name": "stdout",
     "output_type": "stream",
     "text": [
      "/kaggle/input/nfl-big-data-bowl-2026-prediction/sample_submission.csv\n",
      "/kaggle/input/nfl-big-data-bowl-2026-prediction/test_input.csv\n",
      "/kaggle/input/nfl-big-data-bowl-2026-prediction/test.csv\n",
      "/kaggle/input/nfl-big-data-bowl-2026-prediction/train/input_2023_w17.csv\n",
      "/kaggle/input/nfl-big-data-bowl-2026-prediction/train/output_2023_w05.csv\n",
      "/kaggle/input/nfl-big-data-bowl-2026-prediction/train/output_2023_w10.csv\n",
      "/kaggle/input/nfl-big-data-bowl-2026-prediction/train/input_2023_w03.csv\n",
      "/kaggle/input/nfl-big-data-bowl-2026-prediction/train/output_2023_w18.csv\n",
      "/kaggle/input/nfl-big-data-bowl-2026-prediction/train/input_2023_w05.csv\n",
      "/kaggle/input/nfl-big-data-bowl-2026-prediction/train/output_2023_w11.csv\n",
      "/kaggle/input/nfl-big-data-bowl-2026-prediction/train/output_2023_w12.csv\n",
      "/kaggle/input/nfl-big-data-bowl-2026-prediction/train/output_2023_w16.csv\n",
      "/kaggle/input/nfl-big-data-bowl-2026-prediction/train/output_2023_w06.csv\n",
      "/kaggle/input/nfl-big-data-bowl-2026-prediction/train/input_2023_w18.csv\n",
      "/kaggle/input/nfl-big-data-bowl-2026-prediction/train/input_2023_w10.csv\n",
      "/kaggle/input/nfl-big-data-bowl-2026-prediction/train/input_2023_w02.csv\n",
      "/kaggle/input/nfl-big-data-bowl-2026-prediction/train/output_2023_w08.csv\n",
      "/kaggle/input/nfl-big-data-bowl-2026-prediction/train/input_2023_w12.csv\n",
      "/kaggle/input/nfl-big-data-bowl-2026-prediction/train/output_2023_w13.csv\n",
      "/kaggle/input/nfl-big-data-bowl-2026-prediction/train/input_2023_w15.csv\n",
      "/kaggle/input/nfl-big-data-bowl-2026-prediction/train/output_2023_w03.csv\n",
      "/kaggle/input/nfl-big-data-bowl-2026-prediction/train/input_2023_w13.csv\n",
      "/kaggle/input/nfl-big-data-bowl-2026-prediction/train/output_2023_w15.csv\n",
      "/kaggle/input/nfl-big-data-bowl-2026-prediction/train/input_2023_w16.csv\n",
      "/kaggle/input/nfl-big-data-bowl-2026-prediction/train/input_2023_w01.csv\n",
      "/kaggle/input/nfl-big-data-bowl-2026-prediction/train/input_2023_w04.csv\n",
      "/kaggle/input/nfl-big-data-bowl-2026-prediction/train/output_2023_w14.csv\n",
      "/kaggle/input/nfl-big-data-bowl-2026-prediction/train/input_2023_w14.csv\n",
      "/kaggle/input/nfl-big-data-bowl-2026-prediction/train/output_2023_w09.csv\n",
      "/kaggle/input/nfl-big-data-bowl-2026-prediction/train/output_2023_w01.csv\n",
      "/kaggle/input/nfl-big-data-bowl-2026-prediction/train/input_2023_w07.csv\n",
      "/kaggle/input/nfl-big-data-bowl-2026-prediction/train/input_2023_w11.csv\n",
      "/kaggle/input/nfl-big-data-bowl-2026-prediction/train/input_2023_w06.csv\n",
      "/kaggle/input/nfl-big-data-bowl-2026-prediction/train/output_2023_w04.csv\n",
      "/kaggle/input/nfl-big-data-bowl-2026-prediction/train/input_2023_w09.csv\n",
      "/kaggle/input/nfl-big-data-bowl-2026-prediction/train/output_2023_w17.csv\n",
      "/kaggle/input/nfl-big-data-bowl-2026-prediction/train/output_2023_w07.csv\n",
      "/kaggle/input/nfl-big-data-bowl-2026-prediction/train/input_2023_w08.csv\n",
      "/kaggle/input/nfl-big-data-bowl-2026-prediction/train/output_2023_w02.csv\n"
     ]
    }
   ],
   "source": [
    "import numpy as np\n",
    "import pandas as pd \n",
    "import os\n",
    "\n",
    "for dirname, _, filenames in os.walk('/kaggle/input'):\n",
    "    for filename in filenames:\n",
    "        print(os.path.join(dirname, filename))"
   ]
  },
  {
   "cell_type": "code",
   "execution_count": 2,
   "id": "be67fbac",
   "metadata": {
    "execution": {
     "iopub.execute_input": "2025-09-30T05:28:55.196199Z",
     "iopub.status.busy": "2025-09-30T05:28:55.195794Z",
     "iopub.status.idle": "2025-09-30T05:29:24.831405Z",
     "shell.execute_reply": "2025-09-30T05:29:24.829792Z"
    },
    "papermill": {
     "duration": 29.640315,
     "end_time": "2025-09-30T05:29:24.833208",
     "exception": false,
     "start_time": "2025-09-30T05:28:55.192893",
     "status": "completed"
    },
    "tags": []
   },
   "outputs": [
    {
     "name": "stdout",
     "output_type": "stream",
     "text": [
      "DataFrames loaded successfully\n",
      "\tInput: 4880579 rows\n",
      "\tOutput: 562936 rows\n"
     ]
    }
   ],
   "source": [
    "# 1. Load & Concatenate Input and Output CSV's\n",
    "base_uri = '/kaggle/input/nfl-big-data-bowl-2026-prediction/train'\n",
    "\n",
    "input_df = pd.DataFrame()\n",
    "output_df = pd.DataFrame()\n",
    "\n",
    "for i in range(1, 19):\n",
    "    week_code = i if i >= 10 else f'0{i}'\n",
    "    \n",
    "    input_csv = pd.read_csv(f'{base_uri}/input_2023_w{week_code}.csv')\n",
    "    output_csv = pd.read_csv(f'{base_uri}/output_2023_w{week_code}.csv')\n",
    "\n",
    "    input_df = pd.concat([input_df, input_csv])\n",
    "    output_df = pd.concat([output_df, output_csv])\n",
    "\n",
    "print('DataFrames loaded successfully')\n",
    "print(f'\\tInput: {len(input_df)} rows')\n",
    "print(f'\\tOutput: {len(output_df)} rows')"
   ]
  },
  {
   "cell_type": "code",
   "execution_count": 3,
   "id": "bfbfab36",
   "metadata": {
    "execution": {
     "iopub.execute_input": "2025-09-30T05:29:24.839150Z",
     "iopub.status.busy": "2025-09-30T05:29:24.838837Z",
     "iopub.status.idle": "2025-09-30T05:30:34.614066Z",
     "shell.execute_reply": "2025-09-30T05:30:34.613166Z"
    },
    "papermill": {
     "duration": 69.781734,
     "end_time": "2025-09-30T05:30:34.617369",
     "exception": false,
     "start_time": "2025-09-30T05:29:24.835635",
     "status": "completed"
    },
    "tags": []
   },
   "outputs": [
    {
     "data": {
      "text/html": [
       "<div>\n",
       "<style scoped>\n",
       "    .dataframe tbody tr th:only-of-type {\n",
       "        vertical-align: middle;\n",
       "    }\n",
       "\n",
       "    .dataframe tbody tr th {\n",
       "        vertical-align: top;\n",
       "    }\n",
       "\n",
       "    .dataframe thead th {\n",
       "        text-align: right;\n",
       "    }\n",
       "</style>\n",
       "<table border=\"1\" class=\"dataframe\">\n",
       "  <thead>\n",
       "    <tr style=\"text-align: right;\">\n",
       "      <th></th>\n",
       "      <th>game_id_x</th>\n",
       "      <th>play_id_x</th>\n",
       "      <th>player_to_predict</th>\n",
       "      <th>nfl_id_x</th>\n",
       "      <th>frame_id_x</th>\n",
       "      <th>play_direction</th>\n",
       "      <th>absolute_yardline_number</th>\n",
       "      <th>player_name</th>\n",
       "      <th>player_height</th>\n",
       "      <th>player_weight</th>\n",
       "      <th>...</th>\n",
       "      <th>num_frames_output</th>\n",
       "      <th>ball_land_x</th>\n",
       "      <th>ball_land_y</th>\n",
       "      <th>row_id</th>\n",
       "      <th>game_id_y</th>\n",
       "      <th>play_id_y</th>\n",
       "      <th>nfl_id_y</th>\n",
       "      <th>frame_id_y</th>\n",
       "      <th>x_y</th>\n",
       "      <th>y_y</th>\n",
       "    </tr>\n",
       "  </thead>\n",
       "  <tbody>\n",
       "  </tbody>\n",
       "</table>\n",
       "<p>0 rows × 30 columns</p>\n",
       "</div>"
      ],
      "text/plain": [
       "Empty DataFrame\n",
       "Columns: [game_id_x, play_id_x, player_to_predict, nfl_id_x, frame_id_x, play_direction, absolute_yardline_number, player_name, player_height, player_weight, player_birth_date, player_position, player_side, player_role, x_x, y_x, s, a, dir, o, num_frames_output, ball_land_x, ball_land_y, row_id, game_id_y, play_id_y, nfl_id_y, frame_id_y, x_y, y_y]\n",
       "Index: []\n",
       "\n",
       "[0 rows x 30 columns]"
      ]
     },
     "execution_count": 3,
     "metadata": {},
     "output_type": "execute_result"
    }
   ],
   "source": [
    "# 2. Create Gold Table for Training\n",
    "def row_id(row):\n",
    "    return f\"{row['game_id']}_{row['play_id']}_{row['nfl_id']}_{row['frame_id']}\"\n",
    "\n",
    "input_df['row_id'] = input_df.apply(row_id, axis=1)\n",
    "output_df['row_id'] = output_df.apply(row_id, axis=1)\n",
    "\n",
    "predictable_input_df = input_df[input_df['player_to_predict'] == True].copy()\n",
    "\n",
    "gold_table = pd.merge(predictable_input_df, output_df, on='row_id')\n",
    "gold_table.head()"
   ]
  },
  {
   "cell_type": "code",
   "execution_count": 4,
   "id": "297bdd4a",
   "metadata": {
    "execution": {
     "iopub.execute_input": "2025-09-30T05:30:34.623013Z",
     "iopub.status.busy": "2025-09-30T05:30:34.622714Z",
     "iopub.status.idle": "2025-09-30T05:30:34.644511Z",
     "shell.execute_reply": "2025-09-30T05:30:34.643605Z"
    },
    "papermill": {
     "duration": 0.026359,
     "end_time": "2025-09-30T05:30:34.645972",
     "exception": false,
     "start_time": "2025-09-30T05:30:34.619613",
     "status": "completed"
    },
    "tags": []
   },
   "outputs": [],
   "source": [
    "# 3. Data Cleanup\n",
    "\n",
    "# post-join column name cleanup\n",
    "duplicate_cols = [\n",
    "    'game_id',\n",
    "    'play_id',\n",
    "    'nfl_id',\n",
    "    'frame_id',\n",
    "    'x',\n",
    "    'y'\n",
    "]\n",
    "\n",
    "for col in duplicate_cols:\n",
    "    gold_table[col] = gold_table[f'{col}_x']\n",
    "    gold_table = gold_table.drop([f'{col}_x', f'{col}_y'], axis=1)\n",
    "\n",
    "# cleanup steps from previous winning submission\n",
    "# source: https://github.com/mpchang/uncovering-missed-tackle-opportunities/blob/main/code/data_cleaning.py\n",
    "# rotate direction & orientation\n",
    "gold_table['dir_clean'] = (-(gold_table['dir'] - 90)) % 360\n",
    "gold_table['o_clean'] = (-(gold_table['o'] - 90)) % 360\n",
    "\n",
    "# make all plays left-to-right\n",
    "gold_table['x_clean'] = np.where(\n",
    "    gold_table['play_direction'] == 'left', \n",
    "    120 - gold_table['x'], \n",
    "    gold_table['x']\n",
    ")\n",
    "\n",
    "gold_table['ball_land_x_clean'] = np.where(\n",
    "    gold_table['play_direction'] == 'left',\n",
    "    120 - gold_table['ball_land_x'], \n",
    "    gold_table['ball_land_x']\n",
    ")\n",
    "\n",
    "gold_table['o_clean'] = np.where(\n",
    "    gold_table['play_direction'] == 'left',\n",
    "    (540 - gold_table['o_clean']) % 360,\n",
    "    gold_table['o_clean']\n",
    ")\n",
    "\n",
    "gold_table['dir_clean'] = np.where(\n",
    "    gold_table['play_direction'] == 'left',\n",
    "    (540 - gold_table['dir_clean']) % 360,\n",
    "    gold_table['dir_clean']\n",
    ")\n",
    "\n",
    "# drop unused \"dirty\" columns\n",
    "dirty_cols = [\n",
    "    'x',\n",
    "    'ball_land_x',\n",
    "    'dir',\n",
    "    'o'\n",
    "]\n",
    "\n",
    "gold_table = gold_table.drop(dirty_cols, axis=1)"
   ]
  },
  {
   "cell_type": "code",
   "execution_count": 5,
   "id": "b453585e",
   "metadata": {
    "execution": {
     "iopub.execute_input": "2025-09-30T05:30:34.651678Z",
     "iopub.status.busy": "2025-09-30T05:30:34.651396Z",
     "iopub.status.idle": "2025-09-30T05:30:34.657220Z",
     "shell.execute_reply": "2025-09-30T05:30:34.656516Z"
    },
    "papermill": {
     "duration": 0.010203,
     "end_time": "2025-09-30T05:30:34.658524",
     "exception": false,
     "start_time": "2025-09-30T05:30:34.648321",
     "status": "completed"
    },
    "tags": []
   },
   "outputs": [
    {
     "data": {
      "text/plain": [
       "Index(['player_to_predict', 'play_direction', 'absolute_yardline_number',\n",
       "       'player_name', 'player_height', 'player_weight', 'player_birth_date',\n",
       "       'player_position', 'player_side', 'player_role', 's', 'a',\n",
       "       'num_frames_output', 'ball_land_y', 'row_id', 'game_id', 'play_id',\n",
       "       'nfl_id', 'frame_id', 'y', 'dir_clean', 'o_clean', 'x_clean',\n",
       "       'ball_land_x_clean'],\n",
       "      dtype='object')"
      ]
     },
     "execution_count": 5,
     "metadata": {},
     "output_type": "execute_result"
    }
   ],
   "source": [
    "gold_table.columns"
   ]
  }
 ],
 "metadata": {
  "kaggle": {
   "accelerator": "none",
   "dataSources": [
    {
     "databundleVersionId": 13825858,
     "sourceId": 114239,
     "sourceType": "competition"
    }
   ],
   "dockerImageVersionId": 31089,
   "isGpuEnabled": false,
   "isInternetEnabled": true,
   "language": "python",
   "sourceType": "notebook"
  },
  "kernelspec": {
   "display_name": "Python 3",
   "language": "python",
   "name": "python3"
  },
  "language_info": {
   "codemirror_mode": {
    "name": "ipython",
    "version": 3
   },
   "file_extension": ".py",
   "mimetype": "text/x-python",
   "name": "python",
   "nbconvert_exporter": "python",
   "pygments_lexer": "ipython3",
   "version": "3.11.13"
  },
  "papermill": {
   "default_parameters": {},
   "duration": 108.53322,
   "end_time": "2025-09-30T05:30:35.481575",
   "environment_variables": {},
   "exception": null,
   "input_path": "__notebook__.ipynb",
   "output_path": "__notebook__.ipynb",
   "parameters": {},
   "start_time": "2025-09-30T05:28:46.948355",
   "version": "2.6.0"
  }
 },
 "nbformat": 4,
 "nbformat_minor": 5
}
